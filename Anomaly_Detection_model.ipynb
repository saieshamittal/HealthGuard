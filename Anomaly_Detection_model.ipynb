{
  "nbformat": 4,
  "nbformat_minor": 0,
  "metadata": {
    "colab": {
      "provenance": [],
      "authorship_tag": "ABX9TyM8YzJA6DTmXPYQTnVGMtKR",
      "include_colab_link": true
    },
    "kernelspec": {
      "name": "python3",
      "display_name": "Python 3"
    },
    "language_info": {
      "name": "python"
    }
  },
  "cells": [
    {
      "cell_type": "markdown",
      "metadata": {
        "id": "view-in-github",
        "colab_type": "text"
      },
      "source": [
        "<a href=\"https://colab.research.google.com/github/Shreya-singh01/HealthGuard/blob/main/Anomaly_Detection_model.ipynb\" target=\"_parent\"><img src=\"https://colab.research.google.com/assets/colab-badge.svg\" alt=\"Open In Colab\"/></a>"
      ]
    },
    {
      "cell_type": "code",
      "source": [
        "import requests\n",
        "import json\n",
        "import pandas as pd\n",
        "\n",
        "# API endpoint\n",
        "url = \"https://datasets-server.huggingface.co/first-rows?dataset=infinite-dataset-hub%2FHealthVitalSigns&config=default&split=train\"\n",
        "\n",
        "response = requests.get(url)\n",
        "\n",
        "if response.status_code == 200:\n",
        "    data = response.json()\n",
        "\n",
        "    rows = data.get('rows', [])\n",
        "    records = [row['row'] for row in rows]\n",
        "    df = pd.DataFrame(records)\n",
        "\n",
        "    df.to_csv(\"HealthVitalSigns.csv\", index=False)\n",
        "    print(\"Dataset downloaded and saved as 'HealthVitalSigns.csv'.\")\n",
        "else:\n",
        "    print(f\"Failed to fetch data. Status code: {response.status_code}\")"
      ],
      "metadata": {
        "colab": {
          "base_uri": "https://localhost:8080/"
        },
        "id": "6KNnIisdPCOu",
        "outputId": "f094291f-0a9b-40a5-f5d8-b5d31f0af6a6"
      },
      "execution_count": 1,
      "outputs": [
        {
          "output_type": "stream",
          "name": "stdout",
          "text": [
            "Dataset downloaded and saved as 'HealthVitalSigns.csv'.\n"
          ]
        }
      ]
    },
    {
      "cell_type": "code",
      "source": [
        "import pandas as pd\n",
        "\n",
        "# Load the dataset\n",
        "file_path = '/content/HealthVitalSigns.csv'\n",
        "df = pd.read_csv(file_path)\n",
        "\n",
        "df.head()\n",
        "\n",
        "print(\"Missing Values:\\n\", df.isnull().sum())\n",
        "\n",
        "df.info()\n",
        "\n",
        "df.describe()\n"
      ],
      "metadata": {
        "colab": {
          "base_uri": "https://localhost:8080/",
          "height": 700
        },
        "id": "L3YflvNaQIvn",
        "outputId": "2554d5b5-5084-4f6d-ef19-b91401ef7242"
      },
      "execution_count": 2,
      "outputs": [
        {
          "output_type": "stream",
          "name": "stdout",
          "text": [
            "Missing Values:\n",
            " idx                0\n",
            "Timestamp          0\n",
            "HeartRate          0\n",
            "BloodPressure      0\n",
            "RespirationRate    0\n",
            "Temperature        0\n",
            "Label              0\n",
            "dtype: int64\n",
            "<class 'pandas.core.frame.DataFrame'>\n",
            "RangeIndex: 100 entries, 0 to 99\n",
            "Data columns (total 7 columns):\n",
            " #   Column           Non-Null Count  Dtype  \n",
            "---  ------           --------------  -----  \n",
            " 0   idx              100 non-null    int64  \n",
            " 1   Timestamp        100 non-null    object \n",
            " 2   HeartRate        100 non-null    int64  \n",
            " 3   BloodPressure    100 non-null    object \n",
            " 4   RespirationRate  100 non-null    int64  \n",
            " 5   Temperature      100 non-null    float64\n",
            " 6   Label            100 non-null    object \n",
            "dtypes: float64(1), int64(3), object(3)\n",
            "memory usage: 5.6+ KB\n"
          ]
        },
        {
          "output_type": "execute_result",
          "data": {
            "text/plain": [
              "              idx   HeartRate  RespirationRate  Temperature\n",
              "count  100.000000  100.000000       100.000000   100.000000\n",
              "mean    49.500000   88.410000        19.380000    99.771000\n",
              "std     29.011492   29.465301         8.255736     2.900759\n",
              "min      0.000000   50.000000        11.000000    95.800000\n",
              "25%     24.750000   68.000000        15.000000    98.200000\n",
              "50%     49.500000   75.000000        17.000000    98.600000\n",
              "75%     74.250000  110.000000        20.250000   100.125000\n",
              "max     99.000000  175.000000        52.000000   110.500000"
            ],
            "text/html": [
              "\n",
              "  <div id=\"df-f37dbf85-4bcd-48da-994b-22a86cdce289\" class=\"colab-df-container\">\n",
              "    <div>\n",
              "<style scoped>\n",
              "    .dataframe tbody tr th:only-of-type {\n",
              "        vertical-align: middle;\n",
              "    }\n",
              "\n",
              "    .dataframe tbody tr th {\n",
              "        vertical-align: top;\n",
              "    }\n",
              "\n",
              "    .dataframe thead th {\n",
              "        text-align: right;\n",
              "    }\n",
              "</style>\n",
              "<table border=\"1\" class=\"dataframe\">\n",
              "  <thead>\n",
              "    <tr style=\"text-align: right;\">\n",
              "      <th></th>\n",
              "      <th>idx</th>\n",
              "      <th>HeartRate</th>\n",
              "      <th>RespirationRate</th>\n",
              "      <th>Temperature</th>\n",
              "    </tr>\n",
              "  </thead>\n",
              "  <tbody>\n",
              "    <tr>\n",
              "      <th>count</th>\n",
              "      <td>100.000000</td>\n",
              "      <td>100.000000</td>\n",
              "      <td>100.000000</td>\n",
              "      <td>100.000000</td>\n",
              "    </tr>\n",
              "    <tr>\n",
              "      <th>mean</th>\n",
              "      <td>49.500000</td>\n",
              "      <td>88.410000</td>\n",
              "      <td>19.380000</td>\n",
              "      <td>99.771000</td>\n",
              "    </tr>\n",
              "    <tr>\n",
              "      <th>std</th>\n",
              "      <td>29.011492</td>\n",
              "      <td>29.465301</td>\n",
              "      <td>8.255736</td>\n",
              "      <td>2.900759</td>\n",
              "    </tr>\n",
              "    <tr>\n",
              "      <th>min</th>\n",
              "      <td>0.000000</td>\n",
              "      <td>50.000000</td>\n",
              "      <td>11.000000</td>\n",
              "      <td>95.800000</td>\n",
              "    </tr>\n",
              "    <tr>\n",
              "      <th>25%</th>\n",
              "      <td>24.750000</td>\n",
              "      <td>68.000000</td>\n",
              "      <td>15.000000</td>\n",
              "      <td>98.200000</td>\n",
              "    </tr>\n",
              "    <tr>\n",
              "      <th>50%</th>\n",
              "      <td>49.500000</td>\n",
              "      <td>75.000000</td>\n",
              "      <td>17.000000</td>\n",
              "      <td>98.600000</td>\n",
              "    </tr>\n",
              "    <tr>\n",
              "      <th>75%</th>\n",
              "      <td>74.250000</td>\n",
              "      <td>110.000000</td>\n",
              "      <td>20.250000</td>\n",
              "      <td>100.125000</td>\n",
              "    </tr>\n",
              "    <tr>\n",
              "      <th>max</th>\n",
              "      <td>99.000000</td>\n",
              "      <td>175.000000</td>\n",
              "      <td>52.000000</td>\n",
              "      <td>110.500000</td>\n",
              "    </tr>\n",
              "  </tbody>\n",
              "</table>\n",
              "</div>\n",
              "    <div class=\"colab-df-buttons\">\n",
              "\n",
              "  <div class=\"colab-df-container\">\n",
              "    <button class=\"colab-df-convert\" onclick=\"convertToInteractive('df-f37dbf85-4bcd-48da-994b-22a86cdce289')\"\n",
              "            title=\"Convert this dataframe to an interactive table.\"\n",
              "            style=\"display:none;\">\n",
              "\n",
              "  <svg xmlns=\"http://www.w3.org/2000/svg\" height=\"24px\" viewBox=\"0 -960 960 960\">\n",
              "    <path d=\"M120-120v-720h720v720H120Zm60-500h600v-160H180v160Zm220 220h160v-160H400v160Zm0 220h160v-160H400v160ZM180-400h160v-160H180v160Zm440 0h160v-160H620v160ZM180-180h160v-160H180v160Zm440 0h160v-160H620v160Z\"/>\n",
              "  </svg>\n",
              "    </button>\n",
              "\n",
              "  <style>\n",
              "    .colab-df-container {\n",
              "      display:flex;\n",
              "      gap: 12px;\n",
              "    }\n",
              "\n",
              "    .colab-df-convert {\n",
              "      background-color: #E8F0FE;\n",
              "      border: none;\n",
              "      border-radius: 50%;\n",
              "      cursor: pointer;\n",
              "      display: none;\n",
              "      fill: #1967D2;\n",
              "      height: 32px;\n",
              "      padding: 0 0 0 0;\n",
              "      width: 32px;\n",
              "    }\n",
              "\n",
              "    .colab-df-convert:hover {\n",
              "      background-color: #E2EBFA;\n",
              "      box-shadow: 0px 1px 2px rgba(60, 64, 67, 0.3), 0px 1px 3px 1px rgba(60, 64, 67, 0.15);\n",
              "      fill: #174EA6;\n",
              "    }\n",
              "\n",
              "    .colab-df-buttons div {\n",
              "      margin-bottom: 4px;\n",
              "    }\n",
              "\n",
              "    [theme=dark] .colab-df-convert {\n",
              "      background-color: #3B4455;\n",
              "      fill: #D2E3FC;\n",
              "    }\n",
              "\n",
              "    [theme=dark] .colab-df-convert:hover {\n",
              "      background-color: #434B5C;\n",
              "      box-shadow: 0px 1px 3px 1px rgba(0, 0, 0, 0.15);\n",
              "      filter: drop-shadow(0px 1px 2px rgba(0, 0, 0, 0.3));\n",
              "      fill: #FFFFFF;\n",
              "    }\n",
              "  </style>\n",
              "\n",
              "    <script>\n",
              "      const buttonEl =\n",
              "        document.querySelector('#df-f37dbf85-4bcd-48da-994b-22a86cdce289 button.colab-df-convert');\n",
              "      buttonEl.style.display =\n",
              "        google.colab.kernel.accessAllowed ? 'block' : 'none';\n",
              "\n",
              "      async function convertToInteractive(key) {\n",
              "        const element = document.querySelector('#df-f37dbf85-4bcd-48da-994b-22a86cdce289');\n",
              "        const dataTable =\n",
              "          await google.colab.kernel.invokeFunction('convertToInteractive',\n",
              "                                                    [key], {});\n",
              "        if (!dataTable) return;\n",
              "\n",
              "        const docLinkHtml = 'Like what you see? Visit the ' +\n",
              "          '<a target=\"_blank\" href=https://colab.research.google.com/notebooks/data_table.ipynb>data table notebook</a>'\n",
              "          + ' to learn more about interactive tables.';\n",
              "        element.innerHTML = '';\n",
              "        dataTable['output_type'] = 'display_data';\n",
              "        await google.colab.output.renderOutput(dataTable, element);\n",
              "        const docLink = document.createElement('div');\n",
              "        docLink.innerHTML = docLinkHtml;\n",
              "        element.appendChild(docLink);\n",
              "      }\n",
              "    </script>\n",
              "  </div>\n",
              "\n",
              "\n",
              "<div id=\"df-8675c935-e46b-465a-a500-08529cf85dbf\">\n",
              "  <button class=\"colab-df-quickchart\" onclick=\"quickchart('df-8675c935-e46b-465a-a500-08529cf85dbf')\"\n",
              "            title=\"Suggest charts\"\n",
              "            style=\"display:none;\">\n",
              "\n",
              "<svg xmlns=\"http://www.w3.org/2000/svg\" height=\"24px\"viewBox=\"0 0 24 24\"\n",
              "     width=\"24px\">\n",
              "    <g>\n",
              "        <path d=\"M19 3H5c-1.1 0-2 .9-2 2v14c0 1.1.9 2 2 2h14c1.1 0 2-.9 2-2V5c0-1.1-.9-2-2-2zM9 17H7v-7h2v7zm4 0h-2V7h2v10zm4 0h-2v-4h2v4z\"/>\n",
              "    </g>\n",
              "</svg>\n",
              "  </button>\n",
              "\n",
              "<style>\n",
              "  .colab-df-quickchart {\n",
              "      --bg-color: #E8F0FE;\n",
              "      --fill-color: #1967D2;\n",
              "      --hover-bg-color: #E2EBFA;\n",
              "      --hover-fill-color: #174EA6;\n",
              "      --disabled-fill-color: #AAA;\n",
              "      --disabled-bg-color: #DDD;\n",
              "  }\n",
              "\n",
              "  [theme=dark] .colab-df-quickchart {\n",
              "      --bg-color: #3B4455;\n",
              "      --fill-color: #D2E3FC;\n",
              "      --hover-bg-color: #434B5C;\n",
              "      --hover-fill-color: #FFFFFF;\n",
              "      --disabled-bg-color: #3B4455;\n",
              "      --disabled-fill-color: #666;\n",
              "  }\n",
              "\n",
              "  .colab-df-quickchart {\n",
              "    background-color: var(--bg-color);\n",
              "    border: none;\n",
              "    border-radius: 50%;\n",
              "    cursor: pointer;\n",
              "    display: none;\n",
              "    fill: var(--fill-color);\n",
              "    height: 32px;\n",
              "    padding: 0;\n",
              "    width: 32px;\n",
              "  }\n",
              "\n",
              "  .colab-df-quickchart:hover {\n",
              "    background-color: var(--hover-bg-color);\n",
              "    box-shadow: 0 1px 2px rgba(60, 64, 67, 0.3), 0 1px 3px 1px rgba(60, 64, 67, 0.15);\n",
              "    fill: var(--button-hover-fill-color);\n",
              "  }\n",
              "\n",
              "  .colab-df-quickchart-complete:disabled,\n",
              "  .colab-df-quickchart-complete:disabled:hover {\n",
              "    background-color: var(--disabled-bg-color);\n",
              "    fill: var(--disabled-fill-color);\n",
              "    box-shadow: none;\n",
              "  }\n",
              "\n",
              "  .colab-df-spinner {\n",
              "    border: 2px solid var(--fill-color);\n",
              "    border-color: transparent;\n",
              "    border-bottom-color: var(--fill-color);\n",
              "    animation:\n",
              "      spin 1s steps(1) infinite;\n",
              "  }\n",
              "\n",
              "  @keyframes spin {\n",
              "    0% {\n",
              "      border-color: transparent;\n",
              "      border-bottom-color: var(--fill-color);\n",
              "      border-left-color: var(--fill-color);\n",
              "    }\n",
              "    20% {\n",
              "      border-color: transparent;\n",
              "      border-left-color: var(--fill-color);\n",
              "      border-top-color: var(--fill-color);\n",
              "    }\n",
              "    30% {\n",
              "      border-color: transparent;\n",
              "      border-left-color: var(--fill-color);\n",
              "      border-top-color: var(--fill-color);\n",
              "      border-right-color: var(--fill-color);\n",
              "    }\n",
              "    40% {\n",
              "      border-color: transparent;\n",
              "      border-right-color: var(--fill-color);\n",
              "      border-top-color: var(--fill-color);\n",
              "    }\n",
              "    60% {\n",
              "      border-color: transparent;\n",
              "      border-right-color: var(--fill-color);\n",
              "    }\n",
              "    80% {\n",
              "      border-color: transparent;\n",
              "      border-right-color: var(--fill-color);\n",
              "      border-bottom-color: var(--fill-color);\n",
              "    }\n",
              "    90% {\n",
              "      border-color: transparent;\n",
              "      border-bottom-color: var(--fill-color);\n",
              "    }\n",
              "  }\n",
              "</style>\n",
              "\n",
              "  <script>\n",
              "    async function quickchart(key) {\n",
              "      const quickchartButtonEl =\n",
              "        document.querySelector('#' + key + ' button');\n",
              "      quickchartButtonEl.disabled = true;  // To prevent multiple clicks.\n",
              "      quickchartButtonEl.classList.add('colab-df-spinner');\n",
              "      try {\n",
              "        const charts = await google.colab.kernel.invokeFunction(\n",
              "            'suggestCharts', [key], {});\n",
              "      } catch (error) {\n",
              "        console.error('Error during call to suggestCharts:', error);\n",
              "      }\n",
              "      quickchartButtonEl.classList.remove('colab-df-spinner');\n",
              "      quickchartButtonEl.classList.add('colab-df-quickchart-complete');\n",
              "    }\n",
              "    (() => {\n",
              "      let quickchartButtonEl =\n",
              "        document.querySelector('#df-8675c935-e46b-465a-a500-08529cf85dbf button');\n",
              "      quickchartButtonEl.style.display =\n",
              "        google.colab.kernel.accessAllowed ? 'block' : 'none';\n",
              "    })();\n",
              "  </script>\n",
              "</div>\n",
              "\n",
              "    </div>\n",
              "  </div>\n"
            ],
            "application/vnd.google.colaboratory.intrinsic+json": {
              "type": "dataframe",
              "summary": "{\n  \"name\": \"df\",\n  \"rows\": 8,\n  \"fields\": [\n    {\n      \"column\": \"idx\",\n      \"properties\": {\n        \"dtype\": \"number\",\n        \"std\": 35.82311256064211,\n        \"min\": 0.0,\n        \"max\": 100.0,\n        \"num_unique_values\": 7,\n        \"samples\": [\n          100.0,\n          49.5,\n          74.25\n        ],\n        \"semantic_type\": \"\",\n        \"description\": \"\"\n      }\n    },\n    {\n      \"column\": \"HeartRate\",\n      \"properties\": {\n        \"dtype\": \"number\",\n        \"std\": 44.123572888960794,\n        \"min\": 29.465300599076524,\n        \"max\": 175.0,\n        \"num_unique_values\": 8,\n        \"samples\": [\n          88.41,\n          75.0,\n          100.0\n        ],\n        \"semantic_type\": \"\",\n        \"description\": \"\"\n      }\n    },\n    {\n      \"column\": \"RespirationRate\",\n      \"properties\": {\n        \"dtype\": \"number\",\n        \"std\": 31.210389746160548,\n        \"min\": 8.255735686004712,\n        \"max\": 100.0,\n        \"num_unique_values\": 8,\n        \"samples\": [\n          19.38,\n          17.0,\n          100.0\n        ],\n        \"semantic_type\": \"\",\n        \"description\": \"\"\n      }\n    },\n    {\n      \"column\": \"Temperature\",\n      \"properties\": {\n        \"dtype\": \"number\",\n        \"std\": 34.75319752084323,\n        \"min\": 2.900759043819915,\n        \"max\": 110.5,\n        \"num_unique_values\": 8,\n        \"samples\": [\n          99.771,\n          98.6,\n          100.0\n        ],\n        \"semantic_type\": \"\",\n        \"description\": \"\"\n      }\n    }\n  ]\n}"
            }
          },
          "metadata": {},
          "execution_count": 2
        }
      ]
    },
    {
      "cell_type": "code",
      "source": [
        "\n",
        "\n",
        "from sklearn.preprocessing import MinMaxScaler\n",
        "\n",
        "for column in df.select_dtypes(include=['number']).columns:\n",
        "    df[column] = df[column].fillna(df[column].median())\n",
        "numeric_features = df.select_dtypes(include=['int64', 'float64'])\n",
        "\n",
        "scaler = MinMaxScaler()\n",
        "X_scaled = scaler.fit_transform(numeric_features)\n",
        "X_scaled = pd.DataFrame(X_scaled, columns=numeric_features.columns)"
      ],
      "metadata": {
        "id": "bKBqR0yGQVQH"
      },
      "execution_count": 3,
      "outputs": []
    },
    {
      "cell_type": "code",
      "source": [
        "# Convert the 'Label' column to numeric before calculating the sum\n",
        "true_anomaly_ratio = pd.to_numeric(df['Label'], errors='coerce').sum() / len(df)"
      ],
      "metadata": {
        "id": "mNZa-CYVT652"
      },
      "execution_count": 4,
      "outputs": []
    },
    {
      "cell_type": "code",
      "source": [
        "from sklearn.ensemble import IsolationForest\n",
        "\n",
        "# Train the Isolation Forest model\n",
        "model = IsolationForest(n_estimators=100, contamination=0.5, random_state=42)\n",
        "model.fit(X_scaled)\n",
        "\n",
        "df['anomaly'] = model.predict(X_scaled)\n",
        "\n",
        "df['anomaly'] = df['anomaly'].map({1: 0, -1: 1})\n",
        "\n",
        "print(df['anomaly'].value_counts())"
      ],
      "metadata": {
        "colab": {
          "base_uri": "https://localhost:8080/"
        },
        "id": "tnmFTwq3Q1ps",
        "outputId": "c9e0347a-681f-430f-a272-21961b1c2dc3"
      },
      "execution_count": 5,
      "outputs": [
        {
          "output_type": "stream",
          "name": "stdout",
          "text": [
            "anomaly\n",
            "0    50\n",
            "1    50\n",
            "Name: count, dtype: int64\n"
          ]
        }
      ]
    },
    {
      "cell_type": "code",
      "source": [
        "# from sklearn.metrics import classification_report, confusion_matrix\n",
        "\n",
        "# # Assuming you have a labeled dataset (optional for unsupervised models)\n",
        "# # Here we simulate labels just for demonstration (0 for normal, 1 for anomalies)\n",
        "# y_true = df['anomaly']\n",
        "# y_pred = model.predict(X_scaled)\n",
        "# y_pred = pd.Series(y_pred).map({1: 0, -1: 1})\n",
        "\n",
        "# # Evaluation metrics\n",
        "# print(\"Confusion Matrix:\\n\", confusion_matrix(y_true, y_pred))\n",
        "# print(\"Classification Report:\\n\", classification_report(y_true, y_pred))"
      ],
      "metadata": {
        "id": "OVsDzFeIQ1vQ"
      },
      "execution_count": 6,
      "outputs": []
    },
    {
      "cell_type": "code",
      "source": [
        "from sklearn.metrics import classification_report, confusion_matrix\n",
        "y_true = df['anomaly']\n",
        "y_pred = model.predict(X_scaled)\n",
        "y_pred = pd.Series(y_pred).map({1: 0, -1: 1})\n",
        "\n",
        "y_true_no_nan = y_true.dropna()\n",
        "y_pred_no_nan = y_pred[y_true_no_nan.index]\n",
        "\n",
        "print(\"Confusion Matrix:\\n\", confusion_matrix(y_true_no_nan, y_pred_no_nan))\n",
        "print(\"Classification Report:\\n\", classification_report(y_true_no_nan, y_pred_no_nan))"
      ],
      "metadata": {
        "colab": {
          "base_uri": "https://localhost:8080/"
        },
        "id": "rUWuP9-7UhY9",
        "outputId": "d889d05e-607f-4e06-c51a-b5636e945c4d"
      },
      "execution_count": 7,
      "outputs": [
        {
          "output_type": "stream",
          "name": "stdout",
          "text": [
            "Confusion Matrix:\n",
            " [[50  0]\n",
            " [ 0 50]]\n",
            "Classification Report:\n",
            "               precision    recall  f1-score   support\n",
            "\n",
            "           0       1.00      1.00      1.00        50\n",
            "           1       1.00      1.00      1.00        50\n",
            "\n",
            "    accuracy                           1.00       100\n",
            "   macro avg       1.00      1.00      1.00       100\n",
            "weighted avg       1.00      1.00      1.00       100\n",
            "\n"
          ]
        }
      ]
    },
    {
      "cell_type": "code",
      "source": [
        "import matplotlib.pyplot as plt\n",
        "\n",
        "plt.figure(figsize=(12, 6))\n",
        "plt.plot(df.index, df[numeric_features.columns[0]], label=numeric_features.columns[0], color='blue')  # Example feature\n",
        "anomalies = df[df['anomaly'] == 1]\n",
        "plt.scatter(anomalies.index, anomalies[numeric_features.columns[0]], color='red', label='Anomalies')\n",
        "plt.title(\"Anomaly Detection Visualization\")\n",
        "plt.xlabel(\"Index\")\n",
        "plt.ylabel(\"Value\")\n",
        "plt.legend()\n",
        "plt.show()"
      ],
      "metadata": {
        "colab": {
          "base_uri": "https://localhost:8080/",
          "height": 512
        },
        "id": "rUNJARl0Q12Z",
        "outputId": "06b2a5f8-b7c2-41f7-b6ba-b3ecf2efef5e"
      },
      "execution_count": 8,
      "outputs": [
        {
          "output_type": "display_data",
          "data": {
            "text/plain": [
              "<Figure size 1200x600 with 1 Axes>"
            ],
            "image/png": "[encoded data removed]"
          },
          "metadata": {}
        }
      ]
    },
    {
      "cell_type": "code",
      "source": [
        "anomalies = df[df['anomaly'] == 1]\n",
        "anomalies.to_csv('/content/detected_anomalies.csv', index=False)\n",
        "\n",
        "df.to_csv('/content/health_data_with_anomalies.csv', index=False)\n"
      ],
      "metadata": {
        "id": "cjuEDZSXRVrf"
      },
      "execution_count": 9,
      "outputs": []
    },
    {
      "cell_type": "code",
      "source": [
        "from sklearn.neighbors import LocalOutlierFactor\n",
        "lof = LocalOutlierFactor(n_neighbors=20, contamination=0.05)\n",
        "lof_labels = lof.fit_predict(X_scaled)\n",
        "\n",
        "df['lof_anomaly'] = pd.Series(lof_labels).map({1: 0, -1: 1})\n",
        "\n",
        "print(df['lof_anomaly'].value_counts())"
      ],
      "metadata": {
        "colab": {
          "base_uri": "https://localhost:8080/"
        },
        "id": "Co3C22b3WJfp",
        "outputId": "ef523a7c-14af-4f9f-f74d-9b814bf6c952"
      },
      "execution_count": 10,
      "outputs": [
        {
          "output_type": "stream",
          "name": "stdout",
          "text": [
            "lof_anomaly\n",
            "0    95\n",
            "1     5\n",
            "Name: count, dtype: int64\n"
          ]
        }
      ]
    },
    {
      "cell_type": "code",
      "source": [
        "import joblib\n",
        "\n",
        "# Save the Isolation Forest model\n",
        "model_filename = '/content/isolation_forest_model.pkl'\n",
        "joblib.dump(model, model_filename)\n",
        "scaler_filename = '/content/scaler.pkl'\n",
        "joblib.dump(scaler, scaler_filename)"
      ],
      "metadata": {
        "colab": {
          "base_uri": "https://localhost:8080/"
        },
        "id": "aySygyp0SY0M",
        "outputId": "eb644165-a1fe-462a-80a9-ff163c9ec0e3"
      },
      "execution_count": 11,
      "outputs": [
        {
          "output_type": "execute_result",
          "data": {
            "text/plain": [
              "['/content/scaler.pkl']"
            ]
          },
          "metadata": {},
          "execution_count": 11
        }
      ]
    },
    {
      "cell_type": "code",
      "source": [
        "anomalies = df[df['anomaly'] == 1]\n",
        "print(\"Number of anomalies detected:\", len(anomalies))\n",
        "print(\"Anomaly samples:\\n\", anomalies.head())\n",
        "\n",
        "# Visualize anomalies in a scatter plot\n",
        "import matplotlib.pyplot as plt\n",
        "\n",
        "plt.figure(figsize=(12, 6))\n",
        "plt.plot(df.index, df[numeric_features.columns[0]], label=numeric_features.columns[0], color='blue')\n",
        "plt.scatter(anomalies.index, anomalies[numeric_features.columns[0]], color='red', label='Anomalies')\n",
        "plt.title(\"Visual Inspection of Detected Anomalies\")\n",
        "plt.xlabel(\"Index\")\n",
        "plt.ylabel(\"Value\")\n",
        "plt.legend()\n",
        "plt.show()"
      ],
      "metadata": {
        "colab": {
          "base_uri": "https://localhost:8080/",
          "height": 773
        },
        "id": "OYpMtGGmTB7Y",
        "outputId": "12b24320-7929-4315-b0fd-38122281ed26"
      },
      "execution_count": 12,
      "outputs": [
        {
          "output_type": "stream",
          "name": "stdout",
          "text": [
            "Number of anomalies detected: 50\n",
            "Anomaly samples:\n",
            "    idx            Timestamp  HeartRate BloodPressure  RespirationRate  \\\n",
            "1    1  2023-01-01T12:05:00         88        135/85               18   \n",
            "2    2  2023-01-01T12:10:00        115       160/100               20   \n",
            "3    3  2023-01-01T12:15:00         68        110/70               15   \n",
            "5    5  2023-01-01T12:25:00        110        145/92               22   \n",
            "7    7  2023-01-01T12:35:00         78        128/84               18   \n",
            "\n",
            "   Temperature    Label  anomaly  lof_anomaly  \n",
            "1         99.1   Normal        1            0  \n",
            "2        101.2  Anomaly        1            0  \n",
            "3         98.4   Normal        1            0  \n",
            "5        100.5  Anomaly        1            0  \n",
            "7         98.9   Normal        1            0  \n"
          ]
        },
        {
          "output_type": "display_data",
          "data": {
            "text/plain": [
              "<Figure size 1200x600 with 1 Axes>"
            ],
            "image/png": "[encoded data removed]"
          },
          "metadata": {}
        }
      ]
    },
    {
      "cell_type": "code",
      "source": [
        "from sklearn.metrics import accuracy_score, precision_score, recall_score, f1_score, confusion_matrix, classification_report\n",
        "\n",
        "# Ground truth labels\n",
        "y_true = df['Label'].map({'Normal': 0, 'Anomaly': 1})   # Replace 'anomaly_label' with your actual label column\n",
        "\n",
        "# Model predictions\n",
        "y_pred = df['anomaly']  # Output from Isolation Forest\n",
        "\n",
        "# Evaluation Metrics\n",
        "accuracy = accuracy_score(y_true, y_pred)\n",
        "precision = precision_score(y_true, y_pred)\n",
        "recall = recall_score(y_true, y_pred)\n",
        "f1 = f1_score(y_true, y_pred)\n",
        "conf_matrix = confusion_matrix(y_true, y_pred)\n",
        "\n",
        "# Print the results\n",
        "print(\"Confusion Matrix:\\n\", conf_matrix)\n",
        "print(\"Accuracy:\", round(accuracy, 4))\n",
        "print(\"Precision:\", round(precision, 4))\n",
        "print(\"Recall:\", round(recall, 4))\n",
        "print(\"F1 Score:\", round(f1, 4))\n",
        "print(\"Classification Report:\\n\", classification_report(y_true, y_pred))\n"
      ],
      "metadata": {
        "colab": {
          "base_uri": "https://localhost:8080/"
        },
        "id": "mFzh1G33WjjX",
        "outputId": "a2cdf383-e420-4e00-eb7f-a615c319c6f0"
      },
      "execution_count": 13,
      "outputs": [
        {
          "output_type": "stream",
          "name": "stdout",
          "text": [
            "Confusion Matrix:\n",
            " [[45 18]\n",
            " [ 5 32]]\n",
            "Accuracy: 0.77\n",
            "Precision: 0.64\n",
            "Recall: 0.8649\n",
            "F1 Score: 0.7356\n",
            "Classification Report:\n",
            "               precision    recall  f1-score   support\n",
            "\n",
            "           0       0.90      0.71      0.80        63\n",
            "           1       0.64      0.86      0.74        37\n",
            "\n",
            "    accuracy                           0.77       100\n",
            "   macro avg       0.77      0.79      0.77       100\n",
            "weighted avg       0.80      0.77      0.77       100\n",
            "\n"
          ]
        }
      ]
    }
  ]
}